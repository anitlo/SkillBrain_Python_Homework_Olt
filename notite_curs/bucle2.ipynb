{
 "cells": [
  {
   "cell_type": "markdown",
   "id": "79fc9853f9c8870f",
   "metadata": {},
   "source": [
    "# Sesiunea 3: Bucla while, bucla for și secretul repetiției\n",
    "\n",
    "✨ Introducere\n",
    "\n",
    "Imaginează-ți că ai un robot care repetă o acțiune până primește un semnal. Exact așa funcționează buclele în Python. Le folosim când vrem ca o acțiune să se repete de mai multe ori."
   ]
  },
  {
   "cell_type": "markdown",
   "id": "7fdd4d07a3d75084",
   "metadata": {},
   "source": [
    "## 🔄 Bucla while – \"Cât timp ...\"\n",
    "Exemplu simplu:"
   ]
  },
  {
   "cell_type": "code",
   "execution_count": 4,
   "id": "88beb03be8571850",
   "metadata": {
    "ExecuteTime": {
     "end_time": "2025-09-04T15:10:56.632868Z",
     "start_time": "2025-09-04T15:10:56.629456Z"
    }
   },
   "outputs": [
    {
     "name": "stdout",
     "output_type": "stream",
     "text": [
      "Valoarea lui x este: 0\n",
      "Valoarea lui x este: 1\n",
      "Valoarea lui x este: 2\n",
      "Valoarea lui x este: 3\n",
      "Valoarea lui x este: 4\n"
     ]
    }
   ],
   "source": [
    "x = 0\n",
    "while x < 5:\n",
    "    print(\"Valoarea lui x este:\", x)\n",
    "    x += 1"
   ]
  },
  {
   "cell_type": "markdown",
   "id": "7ae3992f662a4c89",
   "metadata": {},
   "source": [
    "⛔ Buclă infinită (atenție!) – oprește manual cu `Ctrl + C`:"
   ]
  },
  {
   "cell_type": "code",
   "execution_count": 2,
   "id": "f44c769697975e54",
   "metadata": {},
   "outputs": [],
   "source": [
    "# while True:\n",
    "#     print(\"Sunt prins aici pentru totdeauna!\")"
   ]
  },
  {
   "cell_type": "markdown",
   "id": "602085aa0983aa8e",
   "metadata": {},
   "source": [
    "## ♻ Bucla for – \"Pentru fiecare ...\""
   ]
  },
  {
   "cell_type": "code",
   "execution_count": null,
   "id": "e9acacfb556166fb",
   "metadata": {},
   "outputs": [],
   "source": [
    "for i in range(5):\n",
    "    print(\"Salut!\", i)"
   ]
  },
  {
   "cell_type": "code",
   "execution_count": null,
   "id": "e4f8c47643b8de32",
   "metadata": {},
   "outputs": [],
   "source": [
    "for i in range(2, 10, 2):\n",
    "    print(i)"
   ]
  },
  {
   "cell_type": "markdown",
   "id": "44d6242600e1a70e",
   "metadata": {},
   "source": [
    "Exemplu: Ani posibili de naștere"
   ]
  },
  {
   "cell_type": "code",
   "execution_count": null,
   "id": "c3d8a030bc042d17",
   "metadata": {},
   "outputs": [],
   "source": [
    "an_curent = 2025\n",
    "for an in range(an_curent - 18, an_curent - 14):\n",
    "    print(\"Posibil an de naștere:\", an)"
   ]
  },
  {
   "cell_type": "markdown",
   "id": "6ba645b38867e4b4",
   "metadata": {},
   "source": [
    "## 🧪 Taskuri practice\n",
    "- Numără invers de la 10 la 1 cu while\n",
    "- Cere parola până utilizatorul ghicește corect\n",
    "- Afișează pătratele numerelor 1..10 cu for\n",
    "- Creează un meniu interactiv"
   ]
  },
  {
   "cell_type": "markdown",
   "id": "5be9a78d38f8b8aa",
   "metadata": {},
   "source": [
    "## 📝 Exerciții cu while\n",
    "### Afișează de 5 ori un mesaj"
   ]
  },
  {
   "cell_type": "code",
   "execution_count": 3,
   "id": "3237d6fbda20ad88",
   "metadata": {
    "ExecuteTime": {
     "end_time": "2025-09-04T15:10:56.405121Z",
     "start_time": "2025-09-04T15:10:56.401214Z"
    }
   },
   "outputs": [
    {
     "name": "stdout",
     "output_type": "stream",
     "text": [
      "Bine ai venit la curs\n",
      "Bine ai venit la curs\n",
      "Bine ai venit la curs\n",
      "Bine ai venit la curs\n",
      "Bine ai venit la curs\n"
     ]
    }
   ],
   "source": [
    "i = 0\n",
    "while i < 5:\n",
    "    print(\"Bine ai venit la curs\")\n",
    "    i += 1"
   ]
  },
  {
   "cell_type": "markdown",
   "id": "4b6b043efd18b4ad",
   "metadata": {},
   "source": [
    "### Numără de la 1 la 10"
   ]
  },
  {
   "cell_type": "code",
   "execution_count": null,
   "id": "e3ef524379ca1db9",
   "metadata": {},
   "outputs": [],
   "source": [
    "x = 1\n",
    "while x <= 10:\n",
    "    print(x)\n",
    "    x += 1"
   ]
  },
  {
   "cell_type": "markdown",
   "id": "958cf836a4185c22",
   "metadata": {},
   "source": [
    "### Numără invers de la 10 la 1"
   ]
  },
  {
   "cell_type": "code",
   "execution_count": null,
   "id": "80edf2862744385d",
   "metadata": {},
   "outputs": [],
   "source": [
    "x = 10\n",
    "while x >= 1:\n",
    "    print(x)\n",
    "    x -= 1"
   ]
  },
  {
   "cell_type": "markdown",
   "id": "d539ea0d54b8e835",
   "metadata": {},
   "source": [
    "### Validare notă între 1 și 10"
   ]
  },
  {
   "cell_type": "code",
   "execution_count": null,
   "id": "c8aef8e3eaac5343",
   "metadata": {},
   "outputs": [],
   "source": [
    "# nota = 0\n",
    "# while nota < 1 or nota > 10:\n",
    "#     nota = int(input(\"Introdu o notă între 1 și 10: \"))\n",
    "# print(\"Mulțumim!\")"
   ]
  },
  {
   "cell_type": "markdown",
   "id": "66db186a24a2e1e0",
   "metadata": {},
   "source": [
    "## 🌀 Exerciții cu for + range\n",
    "### Pătrate 1..10"
   ]
  },
  {
   "cell_type": "code",
   "execution_count": null,
   "id": "306de549694c94a3",
   "metadata": {},
   "outputs": [],
   "source": [
    "for i in range(1, 11):\n",
    "    print(f\"Pătratul lui {i} este {i ** 2}\")"
   ]
  },
  {
   "cell_type": "markdown",
   "id": "8f1fb600cb6e9475",
   "metadata": {},
   "source": [
    "### Numere pare 1..20"
   ]
  },
  {
   "cell_type": "code",
   "execution_count": null,
   "id": "eb25bb91c8ecffae",
   "metadata": {},
   "outputs": [],
   "source": [
    "for i in range(2, 21, 2):\n",
    "    print(i)"
   ]
  },
  {
   "cell_type": "markdown",
   "id": "d29a60b49eb7d11a",
   "metadata": {},
   "source": [
    "### Piramidă de stele"
   ]
  },
  {
   "cell_type": "code",
   "execution_count": null,
   "id": "d0187f1d34509c",
   "metadata": {},
   "outputs": [],
   "source": [
    "for i in range(1, 6):\n",
    "    print(\"*\" * i)"
   ]
  },
  {
   "cell_type": "markdown",
   "id": "5361b4d6c82a0fc3",
   "metadata": {},
   "source": [
    "## 🎓 Test rapid\n",
    "- Diferența dintre for și while\n",
    "- Ce face range(3, 10, 2)?\n",
    "- Cum eviți buclele infinite?\n",
    "- Creează o buclă care afișează anii 1990-2000"
   ]
  },
  {
   "cell_type": "markdown",
   "id": "f16e42d3119d48a9",
   "metadata": {},
   "source": [
    "## 📈 Tema pentru acasă\n",
    "- Creați o buclă care cere un PIN de 4 cifre până e corect\n",
    "- Afișați o listă de 10 numere și să le numerotați\n",
    "- Creați o piramidă inversă cu for\n",
    "- Scrieți o buclă care adună toate numerele pare între 1 și 100"
   ]
  }
 ],
 "metadata": {
  "kernelspec": {
   "display_name": ".venv",
   "language": "python",
   "name": "python3"
  },
  "language_info": {
   "codemirror_mode": {
    "name": "ipython",
    "version": 3
   },
   "file_extension": ".py",
   "mimetype": "text/x-python",
   "name": "python",
   "nbconvert_exporter": "python",
   "pygments_lexer": "ipython3",
   "version": "3.13.7"
  }
 },
 "nbformat": 4,
 "nbformat_minor": 5
}
