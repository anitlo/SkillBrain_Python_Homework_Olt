# Sesiunea 3: Bucla while, bucla for și secretul repetiției

✨ Introducere

Imaginează-ți că ai un robot care repetă o acțiune până primește un semnal. Exact așa funcționează buclele în Python. Le folosim când vrem ca o acțiune să se repete de mai multe ori.

## 🔄 Bucla while – "Cât timp ..."
Exemplu simplu:
x = 0
while x < 5:
    print("Valoarea lui x este:", x)
    x += 1

⛔ Buclă infinită (atenție!) – oprește manual cu Ctrl + C:
# while True:
#     print("Sunt prins aici pentru totdeauna!")

## ♻ Bucla for – "Pentru fiecare ..."
for i in range(5):
    print("Salut!", i)

for i in range(2, 10, 2):
    print(i)

Exemplu: Ani posibili de naștere
an_curent = 2025
for an in range(an_curent - 18, an_curent - 14):
    print("Posibil an de naștere:", an)

## 🧪 Taskuri practice
- Numără invers de la 10 la 1 cu while
- Cere parola până utilizatorul ghicește corect
- Afișează pătratele numerelor 1..10 cu for
- Creează un meniu interactiv

## 📝 Exerciții cu while
### Afișează de 5 ori un mesaj
i = 0
while i < 5:
    print("Bine ai venit la curs")
    i += 1

### Numără de la 1 la 10
x = 1
while x <= 10:
    print(x)
    x += 1

### Numără invers de la 10 la 1
x = 10
while x >= 1:
    print(x)
    x -= 1

### Validare notă între 1 și 10
# nota = 0
# while nota < 1 or nota > 10:
#     nota = int(input("Introdu o notă între 1 și 10: "))
# print("Mulțumim!")

## 🌀 Exerciții cu for + range
### Pătrate 1..10
for i in range(1, 11):
    print(f"Pătratul lui {i} este {i ** 2}")

### Numere pare 1..20
for i in range(2, 21, 2):
    print(i)

### Piramidă de stele
for i in range(1, 6):
    print("*" * i)

## 🎓 Test rapid
- Diferența dintre for și while
- Ce face range(3, 10, 2)?
- Cum eviți buclele infinite?
- Creează o buclă care afișează anii 1990-2000

## 📈 Tema pentru acasă
- Creați o buclă care cere un PIN de 4 cifre până e corect
- Afișați o listă de 10 numere și să le numerotați
- Creați o piramidă inversă cu for
- Scrieți o buclă care adună toate numerele pare între 1 și 100