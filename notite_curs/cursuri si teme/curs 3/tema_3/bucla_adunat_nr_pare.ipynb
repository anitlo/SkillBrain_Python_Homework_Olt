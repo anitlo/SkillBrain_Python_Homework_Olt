{
 "cells": [
  {
   "cell_type": "markdown",
   "id": "14291a16",
   "metadata": {},
   "source": [
    "Scrieți o buclă care adună toate numerele pare între 1 și 100\n"
   ]
  },
  {
   "cell_type": "code",
   "execution_count": 3,
   "id": "971517f6",
   "metadata": {},
   "outputs": [
    {
     "name": "stdout",
     "output_type": "stream",
     "text": [
      "2\n",
      "4\n",
      "6\n",
      "8\n",
      "10\n",
      "12\n",
      "14\n",
      "16\n",
      "18\n",
      "20\n"
     ]
    }
   ],
   "source": [
    "for i in range(2, 21, 2):\n",
    "    print(i)"
   ]
  },
  {
   "cell_type": "code",
   "execution_count": 4,
   "id": "3ae7926a",
   "metadata": {},
   "outputs": [
    {
     "name": "stdout",
     "output_type": "stream",
     "text": [
      "Suma numerelor pare între 1 si 100 este: 2550\n"
     ]
    }
   ],
   "source": [
    "suma = 0\n",
    "\n",
    "for i in range(2, 101, 2):  # 2, 4, 6, ..., 100\n",
    "    suma += i  # adun fiecare număr la total\n",
    "\n",
    "print(\"Suma numerelor pare între 1 si 100 este:\", suma)"
   ]
  }
 ],
 "metadata": {
  "kernelspec": {
   "display_name": "ai4beg",
   "language": "python",
   "name": "python3"
  },
  "language_info": {
   "codemirror_mode": {
    "name": "ipython",
    "version": 3
   },
   "file_extension": ".py",
   "mimetype": "text/x-python",
   "name": "python",
   "nbconvert_exporter": "python",
   "pygments_lexer": "ipython3",
   "version": "3.10.16"
  }
 },
 "nbformat": 4,
 "nbformat_minor": 5
}
