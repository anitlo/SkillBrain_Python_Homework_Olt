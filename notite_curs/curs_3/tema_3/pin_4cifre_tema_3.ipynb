{
 "cells": [
  {
   "cell_type": "markdown",
   "id": "a1169b73",
   "metadata": {},
   "source": [
    "## Creați o buclă care cere un PIN de 4 cifre până e corect\n",
    "\n",
    "explicatie exercitiu: m-am jucat cu chatgpt si am vrut sa protejez parola cumva. la inceput, am avut o eroare legata de bcrypt pt ca nu l-am putut importa. #de aceea, am mers in terminal via view>Ctrl+\n",
    "#acolo am put 'python --version\n",
    "#dupa am pus 'pip install bcrypt'. dupa noul cod a functionat. mai jos gasiti explicatiile fiecarei linii de cod"
   ]
  },
  {
   "cell_type": "markdown",
   "id": "de59cfb3",
   "metadata": {},
   "source": [
    "summary exercitiu:\n",
    "\n",
    "În loc să păstrez parola mea ‘1234’ direct în cod, am transformat-o într-un hash cu ajutorul bcrypt. Am adăugat și un salt aleator, ca hash-ul să fie unic și să nu poată fi ghicit, chiar dacă altcineva ar avea aceeași parolă. Când eu sau altcineva introduce PIN-ul, programul ia ce am tastat, aplică același algoritm și verifică hash-ul. Dacă se potrivește cu hash-ul salvat → acces permis; dacă nu → mesaj de parolă greșită. Practic, parola mea nu e niciodată stocată clar, doar hash-ul, iar datorită salt-ului, chiar dacă altcineva are același PIN, hash-ul lui ar fi diferit și nimeni nu-l poate afla ușor"
   ]
  },
  {
   "cell_type": "code",
   "execution_count": 7,
   "id": "b954ac0a",
   "metadata": {},
   "outputs": [
    {
     "name": "stdout",
     "output_type": "stream",
     "text": [
      "Requirement already satisfied: bcrypt in c:\\users\\hp\\anaconda1\\envs\\ai4beg\\lib\\site-packages (4.3.0)\n",
      "Note: you may need to restart the kernel to use updated packages.\n"
     ]
    }
   ],
   "source": [
    "pip install bcrypt"
   ]
  },
  {
   "cell_type": "code",
   "execution_count": 8,
   "id": "7c4d8128",
   "metadata": {},
   "outputs": [],
   "source": [
    "import bcrypt "
   ]
  },
  {
   "cell_type": "markdown",
   "id": "7243e41a",
   "metadata": {},
   "source": [
    "bcrypt conține funcții pentru a genera salt și a crea/verifica hash-uri sigure pentru parole.\n",
    "\n",
    "Setarea parolei (de obicei doar o faci o dată și salvezi hash-ul într-o bază de date)"
   ]
  },
  {
   "cell_type": "code",
   "execution_count": 9,
   "id": "dc099070",
   "metadata": {},
   "outputs": [],
   "source": [
    "parola_corecta = \"1234\".encode(\"utf-8\")  # parola originala"
   ]
  },
  {
   "cell_type": "markdown",
   "id": "c6bb289c",
   "metadata": {},
   "source": [
    "input() sau string-urile în Python sunt, de obicei, tip str (text). bcrypt = date brute = lucrează cu bytes, nu cu str.\n",
    "#.encode(\"utf-8\") transformă șirul \"1234\" într-un obiect de tip bytes, de exemplu b'1234'. De aceea facem .encode(...) înainte de a hasha.\n",
    "\n",
    ".encode(\"utf-8\") transformă un string într-o versiune de bytes"
   ]
  },
  {
   "cell_type": "code",
   "execution_count": 10,
   "id": "4d011bd9",
   "metadata": {},
   "outputs": [],
   "source": [
    "salt = bcrypt.gensalt()  # se generează un salt aleator"
   ]
  },
  {
   "cell_type": "markdown",
   "id": "877b789d",
   "metadata": {},
   "source": [
    "salt este o valoare aleatorie folosită împreună cu parola la crearea hash-ului. Scopul: două parole identice să aibă hash-uri diferite (împiedică rainbow tables).\n",
    "\n",
    "bcrypt.gensalt() generează salt + încorporează și un cost (numit și rounds) care definește cât de „lent” e algoritmul — un cost mai mare = mai sigur dar mai lent.\n",
    "\n",
    "Explicatie detaliata pentru mine:\n",
    "\n",
    "În hashing cu bcrypt, două concepte cheie sunt salt și cost (rounds). Dacă doi utilizatori aleg aceeași parolă (de exemplu „1234”), fără salt hash-ul ar fi identic pentru amândoi, iar un atacator care fură baza de date ar observa imediat acest lucru și ar putea folosi rainbow tables (tabele pre-generate parolă→hash) pentru a afla parola instant. Saltul rezolvă problema: este o valoare aleatorie adăugată la parolă înainte de hashing, astfel încât și dacă doi oameni aleg aceeași parolă, hash-urile lor vor fi diferite. În bcrypt, saltul este generat automat și inclus în hash, deci nu trebuie salvat separat. Pe lângă salt, bcrypt folosește și un cost sau număr de rounds, care indică de câte ori este rulat algoritmul intern. De exemplu, un cost de 12 înseamnă aproximativ 4096 iterații, iar un cost mai mare înseamnă că hash-ul se calculează mai lent. Pentru utilizator, întârzierea e insesizabilă (milisecunde), dar pentru un atacator care încearcă milioane de parole devine foarte greu. Funcția bcrypt.gensalt() generează automat un salt unic și setează costul (implicit 12), iar rezultatul final al hashing-ului (bcrypt.hashpw) conține versiunea algoritmului, costul, saltul și hash-ul propriu-zis. Astfel, chiar dacă folosești aceeași parolă de mai multe ori, fiecare hash va arăta diferit și va fi mult mai greu de spart."
   ]
  },
  {
   "cell_type": "code",
   "execution_count": 11,
   "id": "cb138c8d",
   "metadata": {},
   "outputs": [
    {
     "name": "stdout",
     "output_type": "stream",
     "text": [
      "Hash salvat în baza de date: b'$2b$12$1tm6o8iy1kt4R5g7ZRAoEuRnkPRv9lXwplCtZszijO8GHVgJUXDdm'\n"
     ]
    }
   ],
   "source": [
    "hashat = bcrypt.hashpw(parola_corecta, salt)\n",
    "\n",
    "print(\"Hash salvat în baza de date:\", hashat)"
   ]
  },
  {
   "cell_type": "markdown",
   "id": "517cc4cf",
   "metadata": {},
   "source": [
    "explicatie cod de mai sus: bcrypt.hashpw() combină parola (în bytes) cu salt-ul și rulează algoritmul bcrypt pentru a produce hash-ul. Rezultatul este tot bytes.\n",
    "\n",
    "Hash-ul generat de bcrypt include, în formatul său, informația despre versiune (ex. $2b$), cost și salt — deci hash-ul salvat conține tot ce e nevoie pentru a verifica parola mai târziu (nu trebuie să mai salvezi salt separat)."
   ]
  },
  {
   "cell_type": "markdown",
   "id": "ea7fa013",
   "metadata": {},
   "source": [
    "Verificarea parolei la autentificare:"
   ]
  },
  {
   "cell_type": "code",
   "execution_count": 12,
   "id": "320b8fd7",
   "metadata": {},
   "outputs": [
    {
     "name": "stdout",
     "output_type": "stream",
     "text": [
      "Parolă greșită. Încearcă din nou!\n",
      "Parolă greșită. Încearcă din nou!\n",
      "Parolă greșită. Încearcă din nou!\n",
      "Acces permis!\n"
     ]
    }
   ],
   "source": [
    "while True:\n",
    "    parola = input(\"Introdu PIN: \").encode(\"utf-8\")\n",
    "\n",
    "    if bcrypt.checkpw(parola, hashat):   # verificăm parola introdusă cu hash-ul salvat\n",
    "        print(\"Acces permis!\")\n",
    "        break\n",
    "    else:\n",
    "        print(\"Parolă greșită. Încearcă din nou!\")\n",
    "\n"
   ]
  },
  {
   "cell_type": "markdown",
   "id": "4e1d5ea8",
   "metadata": {},
   "source": [
    "Explicatie cod de mai sus:\n",
    "input(...) citește de la tastatură -> .encode(\"utf-8\") transformă în bytes.\n",
    "\n",
    "bcrypt.checkpw(candidate, stored_hash):\n",
    "\n",
    "ia parola introdusă, extrage salt și cost din stored_hash, recalculază hash-ul și compară rezultatul cu stored_hash.\n",
    "\n",
    "face comparația în mod sigur (pentru a evita atacuri prin diferențe de timp).\n",
    "\n",
    "întoarce True dacă e aceeași parolă (după hashing+salt), altfel False."
   ]
  }
 ],
 "metadata": {
  "kernelspec": {
   "display_name": "ai4beg",
   "language": "python",
   "name": "python3"
  },
  "language_info": {
   "codemirror_mode": {
    "name": "ipython",
    "version": 3
   },
   "file_extension": ".py",
   "mimetype": "text/x-python",
   "name": "python",
   "nbconvert_exporter": "python",
   "pygments_lexer": "ipython3",
   "version": "3.10.16"
  }
 },
 "nbformat": 4,
 "nbformat_minor": 5
}
