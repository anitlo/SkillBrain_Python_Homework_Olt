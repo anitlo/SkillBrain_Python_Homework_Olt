{
 "cells": [
  {
   "cell_type": "markdown",
   "id": "39e22e25",
   "metadata": {},
   "source": [
    "#### Afișați o listă de 10 numere și să le numerotați"
   ]
  },
  {
   "cell_type": "code",
   "execution_count": 4,
   "id": "a6fa5766",
   "metadata": {},
   "outputs": [
    {
     "name": "stdout",
     "output_type": "stream",
     "text": [
      "1 2 3 4 5 6 7 8 9 10 "
     ]
    }
   ],
   "source": [
    "x = 1\n",
    "while x <= 10:\n",
    "    print(x, end=\" \")  # pune un spațiu după fiecare număr în loc de newline\n",
    "    x += 1"
   ]
  }
 ],
 "metadata": {
  "kernelspec": {
   "display_name": "ai4beg",
   "language": "python",
   "name": "python3"
  },
  "language_info": {
   "codemirror_mode": {
    "name": "ipython",
    "version": 3
   },
   "file_extension": ".py",
   "mimetype": "text/x-python",
   "name": "python",
   "nbconvert_exporter": "python",
   "pygments_lexer": "ipython3",
   "version": "3.10.16"
  }
 },
 "nbformat": 4,
 "nbformat_minor": 5
}
