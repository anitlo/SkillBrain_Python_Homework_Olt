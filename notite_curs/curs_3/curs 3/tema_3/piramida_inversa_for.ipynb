{
 "cells": [
  {
   "cell_type": "markdown",
   "id": "36b5b391",
   "metadata": {},
   "source": [
    "#### Creați o piramidă inversă cu for"
   ]
  },
  {
   "cell_type": "markdown",
   "id": "ee4b1334",
   "metadata": {},
   "source": [
    "important: la range, avem start si stop:\n",
    "\n",
    "range(start, stop, step) generează o secvență de numere.\n",
    "\n",
    "start = de unde începe numărătoarea.\n",
    "\n",
    "stop = până unde se oprește (nu include acest număr).\n",
    "\n",
    "step = cât adaugi sau scazi la fiecare pas\n",
    "\n",
    "-> dacă start > stop și nu pui step negativ, bucla nu rulează deloc, pentru că Python presupune că pasul e pozitiv și nu poate ajunge la stop."
   ]
  },
  {
   "cell_type": "code",
   "execution_count": 9,
   "id": "adea7fa2",
   "metadata": {},
   "outputs": [
    {
     "name": "stdout",
     "output_type": "stream",
     "text": [
      "*********\n",
      "********\n",
      "*******\n",
      "******\n",
      "*****\n",
      "****\n",
      "***\n",
      "**\n",
      "*\n"
     ]
    }
   ],
   "source": [
    "caracter = \"*\"\n",
    "marime = 10\n",
    "\n",
    "for i in range(marime - 1, 0, -1):\n",
    "    linie = caracter * i\n",
    "    print(linie)"
   ]
  },
  {
   "cell_type": "code",
   "execution_count": null,
   "id": "7eea8ae1",
   "metadata": {},
   "outputs": [],
   "source": []
  },
  {
   "cell_type": "markdown",
   "id": "c1eb65ca",
   "metadata": {},
   "source": []
  }
 ],
 "metadata": {
  "kernelspec": {
   "display_name": "ai4beg",
   "language": "python",
   "name": "python3"
  },
  "language_info": {
   "codemirror_mode": {
    "name": "ipython",
    "version": 3
   },
   "file_extension": ".py",
   "mimetype": "text/x-python",
   "name": "python",
   "nbconvert_exporter": "python",
   "pygments_lexer": "ipython3",
   "version": "3.10.16"
  }
 },
 "nbformat": 4,
 "nbformat_minor": 5
}
