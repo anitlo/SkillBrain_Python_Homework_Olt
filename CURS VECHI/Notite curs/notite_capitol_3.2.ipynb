{
 "cells": [
  {
   "cell_type": "code",
   "execution_count": 6,
   "id": "c390e26c",
   "metadata": {},
   "outputs": [
    {
     "name": "stdout",
     "output_type": "stream",
     "text": [
      "Litera a este prezenta\n"
     ]
    }
   ],
   "source": [
    "if 'a' in 'Brasov':\n",
    "    print('Litera a este prezenta')"
   ]
  },
  {
   "cell_type": "code",
   "execution_count": 7,
   "id": "2a29d958",
   "metadata": {},
   "outputs": [
    {
     "name": "stdout",
     "output_type": "stream",
     "text": [
      "True\n"
     ]
    }
   ],
   "source": [
    "if 'ana' in 'banana':\n",
    "    print(True)"
   ]
  },
  {
   "cell_type": "code",
   "execution_count": 9,
   "id": "b7d49d19",
   "metadata": {},
   "outputs": [],
   "source": [
    "#verifica daca litera introdusa de utilizator e o vocala"
   ]
  },
  {
   "cell_type": "code",
   "execution_count": 25,
   "id": "759b8f70",
   "metadata": {},
   "outputs": [
    {
     "name": "stdout",
     "output_type": "stream",
     "text": [
      "consoana\n"
     ]
    }
   ],
   "source": [
    "vocale = 'aeiou'\n",
    "input_user = input('Mention a vowel').lower() #lower ia tot stringul si il face lowercase\n",
    "if input_user in vocale:\n",
    "    print('vocala'.upper()) #asta il face mare\n",
    "\n",
    "else:\n",
    "    print('consoana')"
   ]
  },
  {
   "cell_type": "markdown",
   "id": "f3863106",
   "metadata": {},
   "source": [
    "Functia len() - poti vedea cate caractere sunt intr una numit string\n",
    "\n",
    "cu asta de exemplu putem vedea cate carcatere sunt intr o parola"
   ]
  },
  {
   "cell_type": "code",
   "execution_count": 27,
   "id": "a1d17c7a",
   "metadata": {},
   "outputs": [
    {
     "data": {
      "text/plain": [
       "23"
      ]
     },
     "execution_count": 27,
     "metadata": {},
     "output_type": "execute_result"
    }
   ],
   "source": [
    "len(\"Acesta este curs Python\")"
   ]
  },
  {
   "cell_type": "code",
   "execution_count": 34,
   "id": "b841a1ec",
   "metadata": {},
   "outputs": [
    {
     "name": "stdout",
     "output_type": "stream",
     "text": [
      "parola prea lunga, o sa o uiti\n"
     ]
    }
   ],
   "source": [
    "password_input = input('Introdu parola /n')\n",
    "if len(password_input) <6:\n",
    "    print('Parola slaba.Introdu alta')\n",
    "if len(password_input) > 24:\n",
    "    print('parola prea lunga, o sa o uiti')"
   ]
  },
  {
   "cell_type": "code",
   "execution_count": null,
   "id": "5ab9b88b",
   "metadata": {},
   "outputs": [],
   "source": []
  }
 ],
 "metadata": {
  "kernelspec": {
   "display_name": "ai4beg",
   "language": "python",
   "name": "python3"
  },
  "language_info": {
   "codemirror_mode": {
    "name": "ipython",
    "version": 3
   },
   "file_extension": ".py",
   "mimetype": "text/x-python",
   "name": "python",
   "nbconvert_exporter": "python",
   "pygments_lexer": "ipython3",
   "version": "3.10.16"
  }
 },
 "nbformat": 4,
 "nbformat_minor": 5
}
